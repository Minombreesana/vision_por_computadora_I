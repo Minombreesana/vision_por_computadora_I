{
 "cells": [
  {
   "cell_type": "code",
   "execution_count": 4,
   "id": "sitting-stationery",
   "metadata": {},
   "outputs": [],
   "source": [
    "import numpy as np\n",
    "import cv2 as cv\n",
    "import matplotlib.pyplot as plt"
   ]
  },
  {
   "cell_type": "code",
   "execution_count": 5,
   "id": "taken-financing",
   "metadata": {},
   "outputs": [],
   "source": [
    "%matplotlib inline"
   ]
  },
  {
   "cell_type": "code",
   "execution_count": 6,
   "id": "light-clarity",
   "metadata": {},
   "outputs": [],
   "source": [
    "face_cascade = cv.CascadeClassifier('./material_TPs/TP6/haarcascade_frontalface_alt.xml')\n",
    "eye_cascade = cv.CascadeClassifier('./material_TPs/TP6/haarcascade_eye.xml')"
   ]
  },
  {
   "cell_type": "markdown",
   "id": "continuing-fence",
   "metadata": {},
   "source": [
    "### Detección de cara y ojos"
   ]
  },
  {
   "cell_type": "markdown",
   "id": "military-circus",
   "metadata": {},
   "source": [
    "##### Prueba con haar para ojos"
   ]
  },
  {
   "cell_type": "code",
   "execution_count": 41,
   "id": "welsh-giving",
   "metadata": {},
   "outputs": [],
   "source": [
    "capture = cv.VideoCapture(0)\n",
    "\n",
    "while (capture.isOpened()):\n",
    "    ret, frame = capture.read()\n",
    "    \n",
    "    if ret:\n",
    "        \n",
    "        gray = cv.cvtColor(frame, cv.COLOR_BGR2GRAY)\n",
    "        faces = face_cascade.detectMultiScale(gray, 1.1, 1)\n",
    "        \n",
    "        for (x,y,w,h) in faces:\n",
    "            cv.rectangle(frame,(x,y),(x+w,y+h),(255,255,0),2)\n",
    "            roi_gray = gray[y:y+h, x:x+w] \n",
    "            roi_color = frame[y:y+h, x:x+w] \n",
    "            eyes = eye_cascade.detectMultiScale(roi_gray, 1.2, 8)\n",
    "            \n",
    "            for (ex,ey,ew,eh) in eyes:\n",
    "                cv.rectangle(roi_color,(ex,ey),(ex+ew,ey+eh),(0,255,0),2)\n",
    "                roi_gray_e = roi_gray[ey:ey+eh, ex:ex+ew]\n",
    "                thresh = cv.adaptiveThreshold(roi_gray_e,255,cv.ADAPTIVE_THRESH_MEAN_C,cv.THRESH_BINARY,17,2)\n",
    "                thresh_hist = cv.calcHist([thresh], [0], None, [256], [0, 256])\n",
    "                blanco = thresh_hist[255]/(np.sum(thresh_hist))\n",
    "                if blanco > 0.8:\n",
    "                    cv.putText(frame,'Dormido',(ex,ey),cv.FONT_HERSHEY_SIMPLEX,1,(0,0,255),2,cv.LINE_AA)\n",
    "                \n",
    "        \n",
    "        \n",
    "        \n",
    "    cv.imshow('webCam',frame)\n",
    "    if (cv.waitKey(1) == ord('s')):\n",
    "        break\n",
    "\n",
    "capture.release()\n",
    "cv.destroyAllWindows()"
   ]
  },
  {
   "cell_type": "markdown",
   "id": "subjective-limit",
   "metadata": {},
   "source": [
    "#### prueba con posición relativa de ojos a cara"
   ]
  },
  {
   "cell_type": "code",
   "execution_count": 177,
   "id": "short-tomato",
   "metadata": {
    "scrolled": true
   },
   "outputs": [],
   "source": [
    "capture = cv.VideoCapture(0)\n",
    "\n",
    "\n",
    "while (capture.isOpened()):\n",
    "    ret, frame = capture.read()\n",
    "    \n",
    "    if ret:\n",
    "        \n",
    "        gray = cv.cvtColor(frame, cv.COLOR_BGR2GRAY)\n",
    "        faces = face_cascade.detectMultiScale(gray, 1.1, 1)\n",
    "        \n",
    "        for (x,y,w,h) in faces:\n",
    "            cv.rectangle(frame,(x,y),(x+w,y+h),(255,255,0),2)\n",
    "            roi_gray = gray[y:y+h, x:x+w] \n",
    "            roi_color = frame[y:y+h, x:x+w] \n",
    "            ex_iz = x + int((x+w) * 0.11)\n",
    "            ex_de = x + int((x+w) * 0.31)\n",
    "            ey =  y + int((y+h) * 0.17) \n",
    "            ew = int((x+w)* 0.07)\n",
    "            eh = int((y+h) * 0.05)\n",
    "            roi_eye_iz = gray[ey:ey+eh, ex_iz:ex_iz+ew] \n",
    "            roi_eye_de = gray[ey:ey+eh, ex_de:ex_de+ew]\n",
    "            \n",
    "            ret, thresh_iz = cv.threshold(roi_eye_iz,80,255,cv.THRESH_BINARY)\n",
    "            ret, thresh_de = cv.threshold(roi_eye_de,80,255,cv.THRESH_BINARY)\n",
    "            hist_de = cv.calcHist([thresh_de], [0], None, [256], [0, 256])\n",
    "            hist_iz = cv.calcHist([thresh_iz], [0], None, [256], [0, 256])\n",
    "            blancos = hist_de[255] + hist_iz[255] / 2\n",
    "            \n",
    "            if blancos > 44300:\n",
    "                cv.rectangle(frame, (445,405), (510, 385), (0,0,0), -1)\n",
    "                cv.putText(frame,'DORMIDO',(450, 400),cv.FONT_HERSHEY_DUPLEX,0.4,(255,255,255),1,cv.LINE_AA)\n",
    "                \n",
    "            cv.rectangle(frame,(ex_iz,ey),(ex_iz+ew,ey+eh),(0,0,255),2)\n",
    "            cv.rectangle(frame,(ex_de,ey),(ex_de+ew,ey+eh),(0,255,0),2)\n",
    "            \n",
    "     \n",
    "    cv.imshow('webCam',frame)\n",
    "    if (cv.waitKey(1) == ord('q')):\n",
    "        plt.imshow(thresh_de, cmap='gray', vmin=0, vmax=1)\n",
    "        height, width = thresh_iz.shape\n",
    "        plt.axis('off')\n",
    "    elif (cv.waitKey(2) == ord('s')):\n",
    "        break\n",
    "\n",
    "capture.release()\n",
    "cv.destroyAllWindows()"
   ]
  },
  {
   "cell_type": "markdown",
   "id": "embedded-requirement",
   "metadata": {},
   "source": [
    "## Análisis Roi binarizada"
   ]
  },
  {
   "cell_type": "markdown",
   "id": "romantic-glory",
   "metadata": {},
   "source": [
    "#### Izquierdo"
   ]
  },
  {
   "cell_type": "code",
   "execution_count": 90,
   "id": "blocked-recommendation",
   "metadata": {},
   "outputs": [
    {
     "data": {
      "image/png": "[encoded data removed]",
      "text/plain": [
       "<Figure size 432x288 with 1 Axes>"
      ]
     },
     "metadata": {
      "needs_background": "light"
     },
     "output_type": "display_data"
    }
   ],
   "source": [
    "iz_abierto = cv.imread('./material_TPs/TP6/iz_abierto.png')\n",
    "iz_abierto = cv.cvtColor(iz_abierto, cv.COLOR_BGR2GRAY)\n",
    "plt.imshow(iz_abierto, cmap='gray', vmin=0, vmax=255)\n",
    "plt.show()"
   ]
  },
  {
   "cell_type": "code",
   "execution_count": 91,
   "id": "dress-lithuania",
   "metadata": {},
   "outputs": [
    {
     "name": "stdout",
     "output_type": "stream",
     "text": [
      "[32763.]\n"
     ]
    }
   ],
   "source": [
    "abierto_hist = cv.calcHist([iz_abierto], [0], None, [256], [0, 256])\n",
    "pix_bla_abi = abierto_hist[255]\n",
    "print(pix_bla_abi)"
   ]
  },
  {
   "cell_type": "code",
   "execution_count": 118,
   "id": "aware-internship",
   "metadata": {},
   "outputs": [
    {
     "data": {
      "image/png": "[encoded data removed]",
      "text/plain": [
       "<Figure size 432x288 with 1 Axes>"
      ]
     },
     "metadata": {
      "needs_background": "light"
     },
     "output_type": "display_data"
    }
   ],
   "source": [
    "iz_cerrado = cv.imread('./material_TPs/TP6/iz_cerrado.png')\n",
    "iz_cerrado = cv.cvtColor(iz_cerrado, cv.COLOR_BGR2GRAY)\n",
    "plt.imshow(iz_cerrado, cmap='gray', vmin=0, vmax=255)\n",
    "plt.show()"
   ]
  },
  {
   "cell_type": "code",
   "execution_count": 125,
   "id": "supported-czech",
   "metadata": {},
   "outputs": [
    {
     "name": "stdout",
     "output_type": "stream",
     "text": [
      "[37550.]\n"
     ]
    }
   ],
   "source": [
    "iz_hist = cv.calcHist([iz_cerrado], [0], None, [256], [0, 256])\n",
    "iz = iz_hist[255]\n",
    "print(iz)"
   ]
  },
  {
   "cell_type": "markdown",
   "id": "assumed-newfoundland",
   "metadata": {},
   "source": [
    "#### Derecho"
   ]
  },
  {
   "cell_type": "code",
   "execution_count": 120,
   "id": "precise-bridge",
   "metadata": {},
   "outputs": [
    {
     "data": {
      "image/png": "[encoded data removed]",
      "text/plain": [
       "<Figure size 432x288 with 1 Axes>"
      ]
     },
     "metadata": {
      "needs_background": "light"
     },
     "output_type": "display_data"
    }
   ],
   "source": [
    "de_abierto = cv.imread('./material_TPs/TP6/de_abierto.png')\n",
    "de_abierto = cv.cvtColor(de_abierto, cv.COLOR_BGR2GRAY)\n",
    "plt.imshow(de_abierto, cmap='gray', vmin=0, vmax=255)\n",
    "plt.show()"
   ]
  },
  {
   "cell_type": "code",
   "execution_count": 121,
   "id": "approved-diary",
   "metadata": {},
   "outputs": [
    {
     "data": {
      "image/png": "[encoded data removed]",
      "text/plain": [
       "<Figure size 432x288 with 1 Axes>"
      ]
     },
     "metadata": {
      "needs_background": "light"
     },
     "output_type": "display_data"
    }
   ],
   "source": [
    "de_cerrado = cv.imread('./material_TPs/TP6/de_cerrado.png')\n",
    "de_cerrado = cv.cvtColor(de_cerrado, cv.COLOR_BGR2GRAY)\n",
    "plt.imshow(de_cerrado, cmap='gray', vmin=0, vmax=255)\n",
    "plt.show()"
   ]
  },
  {
   "cell_type": "code",
   "execution_count": 124,
   "id": "daily-sheet",
   "metadata": {},
   "outputs": [
    {
     "name": "stdout",
     "output_type": "stream",
     "text": [
      "[13524.]\n"
     ]
    }
   ],
   "source": [
    "de_hist = cv.calcHist([de_cerrado], [0], None, [256], [0, 256])\n",
    "de = de_hist[255]\n",
    "print(de)"
   ]
  },
  {
   "cell_type": "code",
   "execution_count": 123,
   "id": "offshore-present",
   "metadata": {},
   "outputs": [
    {
     "data": {
      "text/plain": [
       "array([44312.], dtype=float32)"
      ]
     },
     "execution_count": 123,
     "metadata": {},
     "output_type": "execute_result"
    }
   ],
   "source": [
    "prom = iz + de / 2\n",
    "prom"
   ]
  },
  {
   "cell_type": "markdown",
   "id": "smart-denmark",
   "metadata": {},
   "source": [
    "# Link Video de prueba \n",
    "\n",
    "https://www.youtube.com/watch?v=lUJ2BvJk97I"
   ]
  },
  {
   "cell_type": "code",
   "execution_count": null,
   "id": "primary-killer",
   "metadata": {},
   "outputs": [],
   "source": []
  }
 ],
 "metadata": {
  "kernelspec": {
   "display_name": "cv_tp",
   "language": "python",
   "name": "cv_tp"
  },
  "language_info": {
   "codemirror_mode": {
    "name": "ipython",
    "version": 3
   },
   "file_extension": ".py",
   "mimetype": "text/x-python",
   "name": "python",
   "nbconvert_exporter": "python",
   "pygments_lexer": "ipython3",
   "version": "3.9.1"
  }
 },
 "nbformat": 4,
 "nbformat_minor": 5
}
